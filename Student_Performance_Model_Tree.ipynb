{
 "cells": [
  {
   "cell_type": "markdown",
   "id": "690c3bfa",
   "metadata": {},
   "source": [
    "# Predicción del rendimiento académico usando árboles de decisión"
   ]
  },
  {
   "cell_type": "markdown",
   "id": "b0fc9bc8",
   "metadata": {},
   "source": [
    "\n",
    "Este cuaderno muestra cómo predecir el rendimiento académico de estudiantes a partir de sus hábitos.\n",
    "Usaremos un modelo de árbol de decisión y aplicaremos validación cruzada (K-Fold) para mejorar la fiabilidad\n",
    "de los resultados, dado que el dataset es pequeño.\n"
   ]
  },
  {
   "cell_type": "code",
   "execution_count": 1,
   "id": "9c3b3f7d",
   "metadata": {},
   "outputs": [],
   "source": [
    "\n",
    "import pandas as pd\n",
    "import numpy as np\n",
    "from sklearn.model_selection import train_test_split, cross_val_score, KFold\n",
    "from sklearn.preprocessing import OneHotEncoder\n",
    "from sklearn.compose import ColumnTransformer\n",
    "from sklearn.pipeline import Pipeline\n",
    "from sklearn.tree import DecisionTreeRegressor\n",
    "from sklearn.metrics import accuracy_score\n"
   ]
  },
  {
   "cell_type": "markdown",
   "id": "2a4912a4",
   "metadata": {},
   "source": [
    "## Cargar el dataset"
   ]
  },
  {
   "cell_type": "code",
   "execution_count": 2,
   "id": "832bc224",
   "metadata": {},
   "outputs": [
    {
     "data": {
      "text/html": [
       "<div>\n",
       "<style scoped>\n",
       "    .dataframe tbody tr th:only-of-type {\n",
       "        vertical-align: middle;\n",
       "    }\n",
       "\n",
       "    .dataframe tbody tr th {\n",
       "        vertical-align: top;\n",
       "    }\n",
       "\n",
       "    .dataframe thead th {\n",
       "        text-align: right;\n",
       "    }\n",
       "</style>\n",
       "<table border=\"1\" class=\"dataframe\">\n",
       "  <thead>\n",
       "    <tr style=\"text-align: right;\">\n",
       "      <th></th>\n",
       "      <th>student_id</th>\n",
       "      <th>age</th>\n",
       "      <th>gender</th>\n",
       "      <th>study_hours_per_day</th>\n",
       "      <th>social_media_hours</th>\n",
       "      <th>netflix_hours</th>\n",
       "      <th>part_time_job</th>\n",
       "      <th>attendance_percentage</th>\n",
       "      <th>sleep_hours</th>\n",
       "      <th>diet_quality</th>\n",
       "      <th>exercise_frequency</th>\n",
       "      <th>parental_education_level</th>\n",
       "      <th>internet_quality</th>\n",
       "      <th>mental_health_rating</th>\n",
       "      <th>extracurricular_participation</th>\n",
       "      <th>exam_score</th>\n",
       "    </tr>\n",
       "  </thead>\n",
       "  <tbody>\n",
       "    <tr>\n",
       "      <th>0</th>\n",
       "      <td>S1000</td>\n",
       "      <td>23</td>\n",
       "      <td>Female</td>\n",
       "      <td>0.0</td>\n",
       "      <td>1.2</td>\n",
       "      <td>1.1</td>\n",
       "      <td>No</td>\n",
       "      <td>85.0</td>\n",
       "      <td>8.0</td>\n",
       "      <td>Fair</td>\n",
       "      <td>6</td>\n",
       "      <td>Master</td>\n",
       "      <td>Average</td>\n",
       "      <td>8</td>\n",
       "      <td>Yes</td>\n",
       "      <td>56.2</td>\n",
       "    </tr>\n",
       "    <tr>\n",
       "      <th>1</th>\n",
       "      <td>S1001</td>\n",
       "      <td>20</td>\n",
       "      <td>Female</td>\n",
       "      <td>6.9</td>\n",
       "      <td>2.8</td>\n",
       "      <td>2.3</td>\n",
       "      <td>No</td>\n",
       "      <td>97.3</td>\n",
       "      <td>4.6</td>\n",
       "      <td>Good</td>\n",
       "      <td>6</td>\n",
       "      <td>High School</td>\n",
       "      <td>Average</td>\n",
       "      <td>8</td>\n",
       "      <td>No</td>\n",
       "      <td>100.0</td>\n",
       "    </tr>\n",
       "    <tr>\n",
       "      <th>2</th>\n",
       "      <td>S1002</td>\n",
       "      <td>21</td>\n",
       "      <td>Male</td>\n",
       "      <td>1.4</td>\n",
       "      <td>3.1</td>\n",
       "      <td>1.3</td>\n",
       "      <td>No</td>\n",
       "      <td>94.8</td>\n",
       "      <td>8.0</td>\n",
       "      <td>Poor</td>\n",
       "      <td>1</td>\n",
       "      <td>High School</td>\n",
       "      <td>Poor</td>\n",
       "      <td>1</td>\n",
       "      <td>No</td>\n",
       "      <td>34.3</td>\n",
       "    </tr>\n",
       "    <tr>\n",
       "      <th>3</th>\n",
       "      <td>S1003</td>\n",
       "      <td>23</td>\n",
       "      <td>Female</td>\n",
       "      <td>1.0</td>\n",
       "      <td>3.9</td>\n",
       "      <td>1.0</td>\n",
       "      <td>No</td>\n",
       "      <td>71.0</td>\n",
       "      <td>9.2</td>\n",
       "      <td>Poor</td>\n",
       "      <td>4</td>\n",
       "      <td>Master</td>\n",
       "      <td>Good</td>\n",
       "      <td>1</td>\n",
       "      <td>Yes</td>\n",
       "      <td>26.8</td>\n",
       "    </tr>\n",
       "    <tr>\n",
       "      <th>4</th>\n",
       "      <td>S1004</td>\n",
       "      <td>19</td>\n",
       "      <td>Female</td>\n",
       "      <td>5.0</td>\n",
       "      <td>4.4</td>\n",
       "      <td>0.5</td>\n",
       "      <td>No</td>\n",
       "      <td>90.9</td>\n",
       "      <td>4.9</td>\n",
       "      <td>Fair</td>\n",
       "      <td>3</td>\n",
       "      <td>Master</td>\n",
       "      <td>Good</td>\n",
       "      <td>1</td>\n",
       "      <td>No</td>\n",
       "      <td>66.4</td>\n",
       "    </tr>\n",
       "  </tbody>\n",
       "</table>\n",
       "</div>"
      ],
      "text/plain": [
       "  student_id  age  gender  study_hours_per_day  social_media_hours  \\\n",
       "0      S1000   23  Female                  0.0                 1.2   \n",
       "1      S1001   20  Female                  6.9                 2.8   \n",
       "2      S1002   21    Male                  1.4                 3.1   \n",
       "3      S1003   23  Female                  1.0                 3.9   \n",
       "4      S1004   19  Female                  5.0                 4.4   \n",
       "\n",
       "   netflix_hours part_time_job  attendance_percentage  sleep_hours  \\\n",
       "0            1.1            No                   85.0          8.0   \n",
       "1            2.3            No                   97.3          4.6   \n",
       "2            1.3            No                   94.8          8.0   \n",
       "3            1.0            No                   71.0          9.2   \n",
       "4            0.5            No                   90.9          4.9   \n",
       "\n",
       "  diet_quality  exercise_frequency parental_education_level internet_quality  \\\n",
       "0         Fair                   6                   Master          Average   \n",
       "1         Good                   6              High School          Average   \n",
       "2         Poor                   1              High School             Poor   \n",
       "3         Poor                   4                   Master             Good   \n",
       "4         Fair                   3                   Master             Good   \n",
       "\n",
       "   mental_health_rating extracurricular_participation  exam_score  \n",
       "0                     8                           Yes        56.2  \n",
       "1                     8                            No       100.0  \n",
       "2                     1                            No        34.3  \n",
       "3                     1                           Yes        26.8  \n",
       "4                     1                            No        66.4  "
      ]
     },
     "execution_count": 2,
     "metadata": {},
     "output_type": "execute_result"
    }
   ],
   "source": [
    "\n",
    "# Cargar los datos (asegúrate de tener el CSV en el mismo directorio o cambia la ruta)\n",
    "df = pd.read_csv('student_habits_performance.csv')\n",
    "df.head()\n"
   ]
  },
  {
   "cell_type": "markdown",
   "id": "9c294c25",
   "metadata": {},
   "source": [
    "## Exploración y limpieza del dataset"
   ]
  },
  {
   "cell_type": "code",
   "execution_count": 3,
   "id": "2abb74c5",
   "metadata": {},
   "outputs": [
    {
     "name": "stdout",
     "output_type": "stream",
     "text": [
      "<class 'pandas.core.frame.DataFrame'>\n",
      "RangeIndex: 1000 entries, 0 to 999\n",
      "Data columns (total 16 columns):\n",
      " #   Column                         Non-Null Count  Dtype  \n",
      "---  ------                         --------------  -----  \n",
      " 0   student_id                     1000 non-null   object \n",
      " 1   age                            1000 non-null   int64  \n",
      " 2   gender                         1000 non-null   object \n",
      " 3   study_hours_per_day            1000 non-null   float64\n",
      " 4   social_media_hours             1000 non-null   float64\n",
      " 5   netflix_hours                  1000 non-null   float64\n",
      " 6   part_time_job                  1000 non-null   object \n",
      " 7   attendance_percentage          1000 non-null   float64\n",
      " 8   sleep_hours                    1000 non-null   float64\n",
      " 9   diet_quality                   1000 non-null   object \n",
      " 10  exercise_frequency             1000 non-null   int64  \n",
      " 11  parental_education_level       909 non-null    object \n",
      " 12  internet_quality               1000 non-null   object \n",
      " 13  mental_health_rating           1000 non-null   int64  \n",
      " 14  extracurricular_participation  1000 non-null   object \n",
      " 15  exam_score                     1000 non-null   float64\n",
      "dtypes: float64(6), int64(3), object(7)\n",
      "memory usage: 125.1+ KB\n"
     ]
    },
    {
     "data": {
      "text/plain": [
       "student_id                        0\n",
       "age                               0\n",
       "gender                            0\n",
       "study_hours_per_day               0\n",
       "social_media_hours                0\n",
       "netflix_hours                     0\n",
       "part_time_job                     0\n",
       "attendance_percentage             0\n",
       "sleep_hours                       0\n",
       "diet_quality                      0\n",
       "exercise_frequency                0\n",
       "parental_education_level         91\n",
       "internet_quality                  0\n",
       "mental_health_rating              0\n",
       "extracurricular_participation     0\n",
       "exam_score                        0\n",
       "dtype: int64"
      ]
     },
     "execution_count": 3,
     "metadata": {},
     "output_type": "execute_result"
    }
   ],
   "source": [
    "\n",
    "# Información general del dataset\n",
    "df.info()\n",
    "df.describe()\n",
    "df.isnull().sum()\n"
   ]
  },
  {
   "cell_type": "code",
   "execution_count": 4,
   "id": "15d66c5f",
   "metadata": {},
   "outputs": [],
   "source": [
    "\n",
    "# Eliminar columna que no aporta información útil para el modelo\n",
    "df = df.drop(columns=['student_id'])\n"
   ]
  },
  {
   "cell_type": "markdown",
   "id": "aeb08c7b",
   "metadata": {},
   "source": [
    "## Definir variables predictoras (X) y variable objetivo (y)"
   ]
  },
  {
   "cell_type": "code",
   "execution_count": 5,
   "id": "354e15e7-84c3-4d13-8e7d-540631987f52",
   "metadata": {},
   "outputs": [],
   "source": [
    "# Suponiendo que 'performance' es la variable objetivo\n",
    "X = df.drop(columns=['exam_score'])  \n",
    "y = df['exam_score']"
   ]
  },
  {
   "cell_type": "markdown",
   "id": "a009b8e2",
   "metadata": {},
   "source": [
    "## Preprocesamiento: One Hot Encoding para variables categóricas"
   ]
  },
  {
   "cell_type": "code",
   "execution_count": 6,
   "id": "3b2fb031-9668-4ec7-8092-2ad228eb1c87",
   "metadata": {},
   "outputs": [],
   "source": [
    "# 2. Detectar columnas categóricas\n",
    "categorical_cols = X.select_dtypes(include='object').columns\n",
    "\n",
    "# 3. Codificar variables categóricas\n",
    "ohe = OneHotEncoder(drop='first', sparse_output=False)\n",
    "X_encoded = pd.DataFrame(\n",
    "    ohe.fit_transform(X[categorical_cols]),\n",
    "    columns=ohe.get_feature_names_out(categorical_cols)\n",
    ")\n",
    "\n",
    "# 4. Concatenar columnas numéricas + codificadas\n",
    "X_numeric = X.drop(columns=categorical_cols).reset_index(drop=True)\n",
    "X_prepared = pd.concat([X_numeric, X_encoded], axis=1)"
   ]
  },
  {
   "cell_type": "markdown",
   "id": "ceb82859",
   "metadata": {},
   "source": [
    "## Evaluación del modelo con validación cruzada (K-Fold)"
   ]
  },
  {
   "cell_type": "code",
   "execution_count": 7,
   "id": "e8622e90-3da3-49d3-b2bb-2ac4932f21df",
   "metadata": {},
   "outputs": [
    {
     "name": "stdout",
     "output_type": "stream",
     "text": [
      "RMSE promedio con 5-Fold CV: 9.4689\n",
      "Todas las puntuaciones RMSE: [ 9.54619558  9.31742185  8.7249298   9.61093388 10.14494455]\n"
     ]
    }
   ],
   "source": [
    "\n",
    "# 4. Crear modelo de regresión\n",
    "model = DecisionTreeRegressor(random_state=42)\n",
    "\n",
    "# 5. Validación cruzada\n",
    "kfold = KFold(n_splits=5, shuffle=True, random_state=42)\n",
    "scores = cross_val_score(model, X_prepared, y, cv=kfold, scoring='neg_mean_squared_error')\n",
    "\n",
    "# 6. Mostrar resultados\n",
    "import numpy as np\n",
    "rmse_scores = np.sqrt(-scores)  # convertir MSE negativo a RMSE\n",
    "print(f'RMSE promedio con 5-Fold CV: {rmse_scores.mean():.4f}')\n",
    "print(f'Todas las puntuaciones RMSE: {rmse_scores}')"
   ]
  },
  {
   "cell_type": "markdown",
   "id": "ae561ab4",
   "metadata": {},
   "source": [
    "## Conclusión"
   ]
  },
  {
   "cell_type": "markdown",
   "id": "11a902ff",
   "metadata": {},
   "source": [
    "\n",
    "El modelo de árbol de decisión ha sido entrenado y evaluado con validación cruzada.\n",
    "Esto nos permite tener una mejor estimación de su rendimiento general en comparación con una sola partición de entrenamiento/test.\n",
    "En próximos pasos se puede comparar con otros modelos como K-NN, SVM o redes neuronales.\n"
   ]
  }
 ],
 "metadata": {
  "kernelspec": {
   "display_name": "Python 3 (ipykernel)",
   "language": "python",
   "name": "python3"
  },
  "language_info": {
   "codemirror_mode": {
    "name": "ipython",
    "version": 3
   },
   "file_extension": ".py",
   "mimetype": "text/x-python",
   "name": "python",
   "nbconvert_exporter": "python",
   "pygments_lexer": "ipython3",
   "version": "3.11.7"
  }
 },
 "nbformat": 4,
 "nbformat_minor": 5
}
