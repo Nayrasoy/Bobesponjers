{
 "cells": [
  {
   "cell_type": "markdown",
   "id": "d2a139db-5f51-422d-a835-212f1f655931",
   "metadata": {},
   "source": [
    "# IMPLEMENTACIÓN USANDO VSR"
   ]
  },
  {
   "cell_type": "markdown",
   "id": "ae19ca21-e4eb-422c-9433-cb37d8578149",
   "metadata": {},
   "source": [
    "## Librerías"
   ]
  },
  {
   "cell_type": "code",
   "execution_count": 3,
   "id": "e1df522b-a5a4-43e4-acda-09fb61abadc9",
   "metadata": {},
   "outputs": [],
   "source": [
    "import pandas as pd\n",
    "import numpy as np\n",
    "from sklearn.model_selection import cross_val_score, KFold\n",
    "from sklearn.preprocessing import OneHotEncoder, StandardScaler\n",
    "from sklearn.svm import SVR"
   ]
  },
  {
   "cell_type": "markdown",
   "id": "31ecffe1-578d-44cd-89ac-87bb80c902a4",
   "metadata": {},
   "source": [
    "## Carga y limpieza de datos"
   ]
  },
  {
   "cell_type": "code",
   "execution_count": 5,
   "id": "5957d02d-0971-4743-948d-fb54f3c00906",
   "metadata": {},
   "outputs": [],
   "source": [
    "# 1. Cargar datos\n",
    "df = pd.read_csv('student_habits_performance.csv')\n",
    "\n",
    "# 2. Eliminar columna innecesaria\n",
    "df = df.drop(columns=['student_id'])\n",
    "\n",
    "# 3. Separar variables\n",
    "X = df.drop(columns=['exam_score'])  \n",
    "y = df['exam_score']\n",
    "\n",
    "# 4. Detectar columnas categóricas y numéricas\n",
    "categorical_cols = X.select_dtypes(include='object').columns\n",
    "numerical_cols = X.select_dtypes(include=['int64', 'float64']).columns\n",
    "\n",
    "# 5. Codificar variables categóricas\n",
    "ohe = OneHotEncoder(drop='first', sparse_output=False)\n",
    "X_encoded = pd.DataFrame(\n",
    "    ohe.fit_transform(X[categorical_cols]),\n",
    "    columns=ohe.get_feature_names_out(categorical_cols)\n",
    ")\n",
    "\n",
    "# 6. Escalar variables numéricas\n",
    "scaler = StandardScaler()\n",
    "X_scaled = pd.DataFrame(\n",
    "    scaler.fit_transform(X[numerical_cols]),\n",
    "    columns=numerical_cols\n",
    ")\n",
    "\n",
    "# 7. Unir datos procesados\n",
    "X_prepared = pd.concat([X_scaled.reset_index(drop=True), X_encoded.reset_index(drop=True)], axis=1)"
   ]
  },
  {
   "cell_type": "markdown",
   "id": "01d6bac3-c035-4b3c-9cc3-49c46d0594d7",
   "metadata": {},
   "source": [
    "## Modelo"
   ]
  },
  {
   "cell_type": "code",
   "execution_count": 7,
   "id": "62f1ddac-57d1-4b6e-b630-e4616dc53eaf",
   "metadata": {},
   "outputs": [],
   "source": [
    "# 8. Crear modelo\n",
    "model = SVR(kernel='rbf')"
   ]
  },
  {
   "cell_type": "markdown",
   "id": "b173f298-9b66-43ff-adb3-62fe4775d8c5",
   "metadata": {},
   "source": [
    "## K-Fold"
   ]
  },
  {
   "cell_type": "code",
   "execution_count": 9,
   "id": "e04934f1-498a-4d5b-aff2-7e9b50d165b7",
   "metadata": {},
   "outputs": [],
   "source": [
    "# 9. Validación cruzada\n",
    "kfold = KFold(n_splits=5, shuffle=True, random_state=42)\n",
    "scores = cross_val_score(model, X_prepared, y, cv=kfold, scoring='neg_mean_squared_error')"
   ]
  },
  {
   "cell_type": "markdown",
   "id": "53802b9a-a039-44da-b49a-1ec77a151484",
   "metadata": {},
   "source": [
    "## Resultados"
   ]
  },
  {
   "cell_type": "code",
   "execution_count": 11,
   "id": "af308498-e279-4687-a60f-1a07f7ad3ab4",
   "metadata": {},
   "outputs": [
    {
     "name": "stdout",
     "output_type": "stream",
     "text": [
      "RMSE promedio con 5-Fold CV: 7.9362\n",
      "Todas las puntuaciones RMSE: [7.36548486 7.99804506 8.15736985 7.84565909 8.31459633]\n"
     ]
    }
   ],
   "source": [
    "# 10. Mostrar resultados\n",
    "rmse_scores = np.sqrt(-scores)\n",
    "print(f'RMSE promedio con 5-Fold CV: {rmse_scores.mean():.4f}')\n",
    "print(f'Todas las puntuaciones RMSE: {rmse_scores}')\n"
   ]
  },
  {
   "cell_type": "code",
   "execution_count": null,
   "id": "2af126c8-585b-46d6-95ca-72887010c532",
   "metadata": {},
   "outputs": [],
   "source": []
  }
 ],
 "metadata": {
  "kernelspec": {
   "display_name": "Python [conda env:base] *",
   "language": "python",
   "name": "conda-base-py"
  },
  "language_info": {
   "codemirror_mode": {
    "name": "ipython",
    "version": 3
   },
   "file_extension": ".py",
   "mimetype": "text/x-python",
   "name": "python",
   "nbconvert_exporter": "python",
   "pygments_lexer": "ipython3",
   "version": "3.12.7"
  }
 },
 "nbformat": 4,
 "nbformat_minor": 5
}
